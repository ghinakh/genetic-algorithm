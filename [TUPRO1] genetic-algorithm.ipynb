{
 "cells": [
  {
   "cell_type": "code",
   "execution_count": 1,
   "metadata": {},
   "outputs": [],
   "source": [
    "import random\n",
    "from random import randint\n",
    "import math"
   ]
  },
  {
   "cell_type": "code",
   "execution_count": 2,
   "metadata": {},
   "outputs": [],
   "source": [
    "def getPopulasi(ukuranPopulasi):\n",
    "    return [[randint(0,1) for x in range(10)] for x in range(ukuranPopulasi)]"
   ]
  },
  {
   "cell_type": "code",
   "execution_count": 3,
   "metadata": {},
   "outputs": [],
   "source": [
    "def decodeKromosom(k):\n",
    "    valX1 = -1 + ((2-(-1))/(2**-1 + 2**-2 + 2**-3 + 2**-4 + 2**-5)) * ((k[0]*2**-1)+(k[1]*2**-2)+(k[2]*2**-3)+(k[3]*2**-4)+(k[4]*2**-5))\n",
    "    valX2 = -1 + ((1-(-1))/(2**-1 + 2**-2 + 2**-3 + 2**-4 + 2**-5)) * ((k[5]*2**-1)+(k[6]*2**-2)+(k[7]*2**-3)+(k[8]*2**-4)+(k[9]*2**-5))    \n",
    "    return [valX1, valX2]"
   ]
  },
  {
   "cell_type": "code",
   "execution_count": 4,
   "metadata": {},
   "outputs": [],
   "source": [
    "def getFitnessKromosom(k):\n",
    "    value = decodeKromosom(k)\n",
    "    return 2**(-1*((math.cos(value[0])*math.sin(value[1]))-(value[0]/((value[1]**2) + 1))))"
   ]
  },
  {
   "cell_type": "code",
   "execution_count": 5,
   "metadata": {},
   "outputs": [],
   "source": [
    "def getAllFitnessKromosom(populasi, ukuranPopulasi):\n",
    "    return [getFitnessKromosom(populasi[x]) for x in range(ukuranPopulasi)]"
   ]
  },
  {
   "cell_type": "code",
   "execution_count": 6,
   "metadata": {},
   "outputs": [],
   "source": [
    "def tournamentSelection(populasi, ukuranTournament):\n",
    "    fittestKromosom = []\n",
    "    popSize = len(populasi)\n",
    "    for i in range(ukuranTournament):\n",
    "        Kromosom = populasi[randint(0,popSize-1)]\n",
    "        if fittestKromosom == [] or getFitnessKromosom(Kromosom)>getFitnessKromosom(fittestKromosom):\n",
    "            fittestKromosom = Kromosom\n",
    "    return fittestKromosom"
   ]
  },
  {
   "cell_type": "code",
   "execution_count": 7,
   "metadata": {},
   "outputs": [],
   "source": [
    "def crossover(parent1, parent2, pc):\n",
    "    offspring1 = []\n",
    "    offspring2 = []\n",
    "    p = random.random()\n",
    "    pola = [randint(0,1) for i in range(10)]\n",
    "    if p<pc:\n",
    "        for i in range(len(pola)):\n",
    "            if pola[i] == 0:\n",
    "                offspring1.append(parent1[i])\n",
    "                offspring2.append(parent2[i])\n",
    "            else:\n",
    "                offspring1.append(parent2[i])\n",
    "                offspring2.append(parent1[i])\n",
    "    else:\n",
    "        offspring1 = parent1\n",
    "        offspring2 = parent2\n",
    "    return [offspring1, offspring2]"
   ]
  },
  {
   "cell_type": "code",
   "execution_count": 8,
   "metadata": {},
   "outputs": [],
   "source": [
    "def mutasi(offspring1, offspring2):\n",
    "    idxOff1 = randint(0,9)\n",
    "    off1 = offspring1[idxOff1]\n",
    "    if off1 == 0:\n",
    "        offspring1[idxOff1] = 1\n",
    "    else:\n",
    "        offspring1[idxOff1] = 0\n",
    "    idxOff2 = randint(0,9)\n",
    "    off2 = offspring2[idxOff2]\n",
    "    if off2 == 0:\n",
    "        offspring2[idxOff2] = 1\n",
    "    else:\n",
    "        offspring2[idxOff2] = 0\n",
    "    return [offspring1, offspring2]"
   ]
  },
  {
   "cell_type": "code",
   "execution_count": 9,
   "metadata": {},
   "outputs": [],
   "source": [
    "def elitisme(populasi, ukPop):\n",
    "    allFitness = getAllFitnessKromosom(populasi, ukPop)\n",
    "    return allFitness.index(max(allFitness)) "
   ]
  },
  {
   "cell_type": "code",
   "execution_count": 10,
   "metadata": {},
   "outputs": [
    {
     "name": "stdout",
     "output_type": "stream",
     "text": [
      "Kromosom terbaik :  [1, 1, 1, 1, 1, 1, 0, 0, 0, 1]\n",
      "Hasil decode :  [2.0, 0.09677419354838701]\n",
      "Fitness :  4.06048692565071\n",
      "Nilai h(x1,x2) minimum :  -2.0216527429522126\n"
     ]
    }
   ],
   "source": [
    "ukuranPopulasi = 70\n",
    "generasi = 300\n",
    "ukuranTournament = 5\n",
    "pc = 0.66\n",
    "pm = 0.26\n",
    "\n",
    "populasi = getPopulasi(ukuranPopulasi)\n",
    "i = 1\n",
    "while i<= generasi:  \n",
    "    populasiBaru = []\n",
    "    populasiBaru.append(populasi[elitisme(populasi, ukuranPopulasi)])\n",
    "    populasiBaru.append(populasi[elitisme(populasi, ukuranPopulasi)])\n",
    "    while len(populasiBaru)<ukuranPopulasi:\n",
    "        parent1 = tournamentSelection(populasi, ukuranTournament)\n",
    "        parent2 = tournamentSelection(populasi, ukuranTournament)\n",
    "        while parent1 == parent2:\n",
    "            parent2 = tournamentSelection(populasi, ukuranTournament)\n",
    "        child = crossover(parent1, parent2, pc)\n",
    "        p = random.random()\n",
    "        if p<pm:\n",
    "            child = mutasi(child[0],child[1])\n",
    "        populasiBaru += child\n",
    "    populasi = populasiBaru\n",
    "    i += 1\n",
    "\n",
    "solution = populasi[elitisme(populasi, ukuranPopulasi)]\n",
    "print(\"Kromosom terbaik : \", solution)\n",
    "print(\"Hasil decode : \", decodeKromosom(solution))\n",
    "print(\"Fitness : \", getFitnessKromosom(solution))\n",
    "print(\"Nilai h(x1,x2) minimum : \", -1*(math.log2(getFitnessKromosom(solution))))"
   ]
  }
 ],
 "metadata": {
  "kernelspec": {
   "display_name": "Python 3",
   "language": "python",
   "name": "python3"
  },
  "language_info": {
   "codemirror_mode": {
    "name": "ipython",
    "version": 3
   },
   "file_extension": ".py",
   "mimetype": "text/x-python",
   "name": "python",
   "nbconvert_exporter": "python",
   "pygments_lexer": "ipython3",
   "version": "3.8.6"
  }
 },
 "nbformat": 4,
 "nbformat_minor": 4
}
